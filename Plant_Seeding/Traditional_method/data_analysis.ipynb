{
 "cells": [
  {
   "cell_type": "markdown",
   "source": [
    "# Data analysis"
   ],
   "metadata": {
    "collapsed": false,
    "pycharm": {
     "name": "#%% md\n"
    }
   }
  },
  {
   "cell_type": "code",
   "execution_count": null,
   "outputs": [],
   "source": [
    "## For check how the process is being gone through."
   ],
   "metadata": {
    "collapsed": false,
    "pycharm": {
     "name": "#%%\n"
    }
   }
  },
  {
   "cell_type": "code",
   "execution_count": 3,
   "outputs": [],
   "source": [
    "from Dataloader_utils import *\n",
    "from sklearn import svm\n",
    "from sklearn.metrics import classification_report, confusion_matrix, accuracy_score\n",
    "from sklearn.cluster import KMeans\n",
    "import cv2\n",
    "from skimage.feature import hog\n",
    "\n"
   ],
   "metadata": {
    "collapsed": false,
    "pycharm": {
     "name": "#%%\n"
    }
   }
  },
  {
   "cell_type": "code",
   "execution_count": 22,
   "metadata": {
    "collapsed": true,
    "pycharm": {
     "name": "#%%\n"
    }
   },
   "outputs": [],
   "source": [
    "def Dataset(train_dataset_path, background_delete=False):\n",
    "    listdir = os.listdir(train_dataset_path)\n",
    "    listdir = [listdir for listdir in listdir if not listdir.startswith('.')]  # .DS_Store delete\n",
    "\n",
    "    train_dataset = []\n",
    "    valid_dataset = []\n",
    "\n",
    "    for i, cl_name in enumerate(listdir):\n",
    "        imgdir = os.listdir(train_dataset_path + cl_name)\n",
    "        train_num = 0\n",
    "        for num, img_name in enumerate(imgdir):\n",
    "            img = cv2.imread(train_dataset_path + cl_name + '/' + img_name, cv2.IMREAD_COLOR)\n",
    "            img = cv2.cvtColor(img, cv2.COLOR_BGR2RGB)\n",
    "\n",
    "            if background_delete == True:\n",
    "                img =  delete_Background(img)\n",
    "\n",
    "            tmp = [cl_name, img]\n",
    "            if num < int(len(imgdir) * 0.8):\n",
    "                train_dataset.append(tmp)\n",
    "                train_num += 1\n",
    "            else :\n",
    "                valid_dataset.append(tmp)\n",
    "        print('['+str(i+1) +'. '+ cl_name +', [total_data]: ' + str(len(imgdir)) + ' / [train_data]: ' +str(train_num) + ']')\n",
    "    return train_dataset, valid_dataset\n",
    "\n",
    "\n",
    "\n",
    "def Dataloder(train_dataset, valid_dataset, option):\n",
    "    t_labels = []\n",
    "    v_labels = []\n",
    "    tmp_list_vec = []\n",
    "    t_fd_list=[]\n",
    "    v_fd_list = []\n",
    "    tmp_list=[]\n",
    "    if option == 'SIFT':\n",
    "        #train_dataloder\n",
    "        for i, (cl_name, img) in enumerate(train_dataset):\n",
    "            fd = SIFT(img)\n",
    "            if fd is not None:\n",
    "                tmp_list.append(fd)\n",
    "                t_labels.append(cl_name)\n",
    "        # make it one line\n",
    "        for descriptor in tmp_list:\n",
    "            if descriptor is not None:\n",
    "                for des in descriptor:\n",
    "                    tmp_list_vec.append(des)\n",
    "\n",
    "        num_cluster = 60\n",
    "        BoW = kmean_bow(tmp_list_vec, num_cluster)\n",
    "        t_fd_list = create_feature_bow(tmp_list, BoW, num_cluster)\n",
    "\n",
    "        tmp_list=[]\n",
    "        # valid_dataloder\n",
    "        for i, (cl_name, img) in enumerate(valid_dataset):\n",
    "            fd = SIFT(img)\n",
    "            if fd is not None:\n",
    "                tmp_list.append(fd)\n",
    "                v_labels.append(cl_name)\n",
    "        #use train_dataset BOW\n",
    "        v_fd_list = create_feature_bow(tmp_list, BoW, num_cluster)\n",
    "\n",
    "\n",
    "    elif option == 'HOG':\n",
    "        for i, (cl_name, img) in enumerate(train_dataset):  # 3794 times rotate\n",
    "            fd = HOG(img)\n",
    "            if fd is not None:\n",
    "                t_fd_list.append(fd)\n",
    "                t_labels.append(cl_name)\n",
    "\n",
    "        for i, (cl_name, img) in enumerate(valid_dataset):  # 3794 times rotate\n",
    "            fd = HOG(img)\n",
    "            if fd is not None:\n",
    "                v_fd_list.append(fd)\n",
    "                v_labels.append(cl_name)\n",
    "\n",
    "    return t_fd_list, t_labels, v_fd_list, v_labels\n"
   ]
  },
  {
   "cell_type": "code",
   "execution_count": 23,
   "outputs": [
    {
     "name": "stdout",
     "output_type": "stream",
     "text": [
      "-----traindataset_dataload start-----\n",
      "[1. Cleavers, [total_data]: 287 / [train_data]: 229]\n",
      "[2. Sugar beet, [total_data]: 385 / [train_data]: 308]\n",
      "[3. Common Chickweed, [total_data]: 611 / [train_data]: 488]\n",
      "[4. Loose Silky-bent, [total_data]: 654 / [train_data]: 523]\n",
      "[5. Scentless Mayweed, [total_data]: 516 / [train_data]: 412]\n",
      "[6. Shepherds Purse, [total_data]: 231 / [train_data]: 184]\n",
      "[7. Fat Hen, [total_data]: 475 / [train_data]: 380]\n",
      "[8. Common wheat, [total_data]: 221 / [train_data]: 176]\n",
      "[9. Black-grass, [total_data]: 263 / [train_data]: 210]\n",
      "[10. Small-flowered Cranesbill, [total_data]: 496 / [train_data]: 396]\n",
      "[11. Charlock, [total_data]: 390 / [train_data]: 312]\n",
      "[12. Maize, [total_data]: 221 / [train_data]: 176]\n"
     ]
    }
   ],
   "source": [
    "# Dataload\n",
    "train_dataset_path = './plant-seedlings-classification/train/'\n",
    "print('-----traindataset_dataload start-----')\n",
    "train_dataset, valid_dataset = Dataset(train_dataset_path, True)#train_dataset = (cl_name, img) 3794"
   ],
   "metadata": {
    "collapsed": false,
    "pycharm": {
     "name": "#%%\n"
    }
   }
  },
  {
   "cell_type": "markdown",
   "source": [
    "# HOG"
   ],
   "metadata": {
    "collapsed": false,
    "pycharm": {
     "name": "#%% md\n"
    }
   }
  },
  {
   "cell_type": "code",
   "execution_count": 24,
   "outputs": [],
   "source": [
    "def Hog(img):\n",
    "    #let img in gray scale(cv2 img)\n",
    "    img = cv2.resize(img, dsize=(128, 256), interpolation=cv2.INTER_CUBIC)\n",
    "    gray = cv2.cvtColor(img, cv2.COLOR_RGB2GRAY)\n",
    "    fd, hog_image = hog(gray, orientations=8, pixels_per_cell=(16, 16),\n",
    "                        cells_per_block=(1, 1), visualize=True, multichannel=False)\n",
    "    return fd\n"
   ],
   "metadata": {
    "collapsed": false,
    "pycharm": {
     "name": "#%%\n"
    }
   }
  },
  {
   "cell_type": "code",
   "execution_count": 25,
   "outputs": [],
   "source": [
    "# X_train y_train 만들기\n",
    "t_labels=[]\n",
    "t_fd_list=[]\n",
    "v_labels=[]\n",
    "v_fd_list=[]\n",
    "for i, (cl_name, img) in enumerate(train_dataset): # 3794 times rotate\n",
    "    fd = Hog(img)\n",
    "    if fd is not None:\n",
    "        t_fd_list.append(fd)\n",
    "        t_labels.append(cl_name)\n",
    "\n",
    "for i, (cl_name, img) in enumerate(valid_dataset): # 3794 times rotate\n",
    "    v_fd = Hog(img)\n",
    "    if fd is not None:\n",
    "        v_fd_list.append(v_fd)\n",
    "        v_labels.append(cl_name)"
   ],
   "metadata": {
    "collapsed": false,
    "pycharm": {
     "name": "#%%\n"
    }
   }
  },
  {
   "cell_type": "code",
   "execution_count": 26,
   "outputs": [
    {
     "name": "stdout",
     "output_type": "stream",
     "text": [
      " Training Linear SVM classifier...\n"
     ]
    },
    {
     "data": {
      "text/plain": "SVC(C=6, gamma=0.015, random_state=42)"
     },
     "execution_count": 26,
     "metadata": {},
     "output_type": "execute_result"
    }
   ],
   "source": [
    "print(\" Training Linear SVM classifier...\")\n",
    "clf_linear = svm.SVC(kernel='rbf',C=6, random_state=42, gamma=0.015)\n",
    "clf_linear.fit(t_fd_list, t_labels)"
   ],
   "metadata": {
    "collapsed": false,
    "pycharm": {
     "name": "#%%\n"
    }
   }
  },
  {
   "cell_type": "code",
   "execution_count": 27,
   "outputs": [
    {
     "name": "stdout",
     "output_type": "stream",
     "text": [
      "67.364%\n",
      "                           precision    recall  f1-score   support\n",
      "\n",
      "              Black-grass       0.39      0.32      0.35        53\n",
      "                 Charlock       0.71      0.87      0.78        78\n",
      "                 Cleavers       0.65      0.64      0.64        58\n",
      "         Common Chickweed       0.65      0.76      0.70       123\n",
      "             Common wheat       0.54      0.29      0.38        45\n",
      "                  Fat Hen       0.68      0.66      0.67        95\n",
      "         Loose Silky-bent       0.70      0.80      0.75       131\n",
      "                    Maize       0.63      0.53      0.58        45\n",
      "        Scentless Mayweed       0.67      0.69      0.68       104\n",
      "          Shepherds Purse       0.53      0.40      0.46        47\n",
      "Small-flowered Cranesbill       0.84      0.86      0.85       100\n",
      "               Sugar beet       0.72      0.60      0.65        77\n",
      "\n",
      "                 accuracy                           0.67       956\n",
      "                macro avg       0.64      0.62      0.62       956\n",
      "             weighted avg       0.67      0.67      0.66       956\n",
      "\n"
     ]
    }
   ],
   "source": [
    "preds = clf_linear.predict(v_fd_list)\n",
    "acc = accuracy_score(v_labels, preds)\n",
    "report = classification_report(v_labels, preds)\n",
    "print(str(round(acc * 100,3)) +'%')\n",
    "print(report)\n"
   ],
   "metadata": {
    "collapsed": false,
    "pycharm": {
     "name": "#%%\n"
    }
   }
  },
  {
   "cell_type": "markdown",
   "source": [],
   "metadata": {
    "collapsed": false,
    "pycharm": {
     "name": "#%% md\n"
    }
   }
  },
  {
   "cell_type": "code",
   "execution_count": 28,
   "outputs": [],
   "source": [
    "def SIFT(img):\n",
    "    img = cv2.resize(img, dsize=(128, 256), interpolation=cv2.INTER_CUBIC)\n",
    "    sift = cv2.xfeatures2d.SIFT_create()\n",
    "    _, des = sift.detectAndCompute(img, None)\n",
    "\n",
    "    return des"
   ],
   "metadata": {
    "collapsed": false,
    "pycharm": {
     "name": "#%%\n"
    }
   }
  },
  {
   "cell_type": "code",
   "execution_count": 29,
   "outputs": [],
   "source": [
    "t_des_list=[]\n",
    "t_labels=[]\n",
    "v_des_list=[]\n",
    "v_labels=[]\n",
    "for i, (cl_name, img) in enumerate(train_dataset):\n",
    "    des=SIFT(img)\n",
    "    if des is not None:\n",
    "        t_des_list.append(des)\n",
    "        t_labels.append(cl_name)\n",
    "\n",
    "for i, (cl_name, img) in enumerate(valid_dataset):\n",
    "    des=SIFT(img)\n",
    "    if des is not None:\n",
    "        v_des_list.append(des)\n",
    "        v_labels.append(cl_name)"
   ],
   "metadata": {
    "collapsed": false,
    "pycharm": {
     "name": "#%%\n"
    }
   }
  },
  {
   "cell_type": "code",
   "execution_count": 30,
   "outputs": [],
   "source": [
    "def kmean_bow(all_descriptors, num_cluster):\n",
    "    bow_dict = []\n",
    "\n",
    "    kmeans = KMeans(n_clusters = num_cluster, random_state=42)\n",
    "    kmeans.fit(all_descriptors)\n",
    "\n",
    "    bow_dict = kmeans.cluster_centers_\n",
    "\n",
    "    return bow_dict"
   ],
   "metadata": {
    "collapsed": false,
    "pycharm": {
     "name": "#%%\n"
    }
   }
  },
  {
   "cell_type": "code",
   "execution_count": 31,
   "outputs": [],
   "source": [
    "t_descriptors = []\n",
    "v_descriptors = []\n",
    "for descriptor in t_des_list:\n",
    "    if descriptor is not None:\n",
    "        for des in descriptor:\n",
    "            t_descriptors.append(des)\n",
    "\n",
    "for descriptor in v_des_list:\n",
    "    if descriptor is not None:\n",
    "        for des in descriptor:\n",
    "            v_descriptors.append(des)"
   ],
   "metadata": {
    "collapsed": false,
    "pycharm": {
     "name": "#%%\n"
    }
   }
  },
  {
   "cell_type": "markdown",
   "source": [],
   "metadata": {
    "collapsed": false,
    "pycharm": {
     "name": "#%% md\n"
    }
   }
  },
  {
   "cell_type": "code",
   "execution_count": 32,
   "outputs": [],
   "source": [
    "num_cluster=60\n",
    "t_BoW = kmean_bow(t_descriptors, num_cluster)\n",
    "X_train = create_feature_bow(t_des_list, t_BoW, num_cluster)\n",
    "\n",
    "X_valid = create_feature_bow(v_des_list, t_BoW, num_cluster)"
   ],
   "metadata": {
    "collapsed": false,
    "pycharm": {
     "name": "#%%\n"
    }
   }
  },
  {
   "cell_type": "code",
   "execution_count": 33,
   "outputs": [
    {
     "name": "stdout",
     "output_type": "stream",
     "text": [
      "63.246%\n",
      "                           precision    recall  f1-score   support\n",
      "\n",
      "              Black-grass       0.58      0.13      0.22        53\n",
      "                 Charlock       0.59      0.62      0.60        78\n",
      "                 Cleavers       0.52      0.29      0.37        58\n",
      "         Common Chickweed       0.51      0.64      0.57       123\n",
      "             Common wheat       0.72      0.47      0.57        45\n",
      "                  Fat Hen       0.70      0.77      0.73        95\n",
      "         Loose Silky-bent       0.71      0.87      0.78       130\n",
      "                    Maize       0.50      0.18      0.26        45\n",
      "        Scentless Mayweed       0.63      0.79      0.70       104\n",
      "          Shepherds Purse       0.62      0.34      0.44        47\n",
      "Small-flowered Cranesbill       0.80      0.87      0.83       100\n",
      "               Sugar beet       0.54      0.69      0.60        77\n",
      "\n",
      "                 accuracy                           0.63       955\n",
      "                macro avg       0.62      0.55      0.56       955\n",
      "             weighted avg       0.63      0.63      0.61       955\n",
      "\n"
     ]
    }
   ],
   "source": [
    "\n",
    "clf_linear = svm.SVC(kernel='rbf',C= 1, random_state=42, gamma=0.008)\n",
    "clf_linear.fit(X_train, t_labels)\n",
    "\n",
    "preds = clf_linear.predict(X_valid)\n",
    "acc = accuracy_score(v_labels, preds)\n",
    "report = classification_report(v_labels, preds)\n",
    "print(f'{str(round(acc * 100,3))}%')\n",
    "print(report)"
   ],
   "metadata": {
    "collapsed": false,
    "pycharm": {
     "name": "#%%\n"
    }
   }
  }
 ],
 "metadata": {
  "kernelspec": {
   "display_name": "Python 3",
   "language": "python",
   "name": "python3"
  },
  "language_info": {
   "codemirror_mode": {
    "name": "ipython",
    "version": 2
   },
   "file_extension": ".py",
   "mimetype": "text/x-python",
   "name": "python",
   "nbconvert_exporter": "python",
   "pygments_lexer": "ipython2",
   "version": "2.7.6"
  }
 },
 "nbformat": 4,
 "nbformat_minor": 0
}